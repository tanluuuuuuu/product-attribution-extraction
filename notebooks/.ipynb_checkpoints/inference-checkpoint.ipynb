{
 "cells": [
  {
   "cell_type": "code",
   "execution_count": 26,
   "metadata": {
    "tags": []
   },
   "outputs": [],
   "source": [
    "from transformers import pipeline\n",
    "from collections import defaultdict\n",
    "\n",
    "# Replace this with your own checkpoint\n",
    "model_checkpoint = \"/home/tanluuuuuuu/Desktop/luunvt/direct_indirect/models/model_from_2023-11-08/roberta-base_09:42:48/best_f1\"\n",
    "token_classifier = pipeline(\n",
    "    \"ner\", model=model_checkpoint, aggregation_strategy=\"simple\", device=0\n",
    ")"
   ]
  },
  {
   "cell_type": "code",
   "execution_count": 27,
   "metadata": {
    "tags": []
   },
   "outputs": [],
   "source": [
    "def preprocess_description(description):\n",
    "    single_description = description.strip()\n",
    "    new_description = []\n",
    "    last_special = -1\n",
    "    for idx, letter in enumerate(single_description):\n",
    "        if not (('a' <= letter and letter <= 'z') or ('A' <= letter and letter <= 'Z') or ('0' <= letter and letter <= '9') or letter == ' '):\n",
    "            pretext = single_description[last_special + 1:idx].strip()\n",
    "            if pretext != '' and pretext != ' ':\n",
    "                new_description.append(pretext)\n",
    "            new_description.append(letter.strip())\n",
    "            last_special = idx\n",
    "        if idx == len(single_description) - 1:\n",
    "            new_description.append(\n",
    "                single_description[last_special + 1:idx + 1].strip())\n",
    "    return \" \".join(new_description)"
   ]
  },
  {
   "cell_type": "code",
   "execution_count": 3,
   "metadata": {
    "tags": []
   },
   "outputs": [
    {
     "name": "stdout",
     "output_type": "stream",
     "text": [
      "No More Sweats - Unlike your memory foam cushion . Our advanced honeycomb grid design cooling gel coccyx seat cushion provides coolness while you are sitting , and it has a breathable cover , so you sit comfortable and cool\n",
      "----------------------------------------------------------------------------------------------------\n",
      "{\n",
      "    \"MAT\": [\n",
      "        \"coccyx 0.999861\"\n",
      "    ],\n",
      "    \"NMAT\": [\n",
      "        \"memory foam 0.99988014\"\n",
      "    ],\n",
      "    \"PROPERTY\": [\n",
      "        \"honeycomb grid design 0.9999708\",\n",
      "        \"breathable cover 0.99996805\"\n",
      "    ]\n",
      "}\n"
     ]
    }
   ],
   "source": [
    "import json\n",
    "\n",
    "# Replace this description\n",
    "description = '''\n",
    "No More Sweats - Unlike your memory foam cushion. Our advanced honeycomb grid design cooling gel coccyx seat cushion provides coolness while you are sitting, and it has a breathable cover, so you sit comfortable and cool\n",
    "'''\n",
    "\n",
    "high_score_ans = defaultdict(set)\n",
    "bullet_points = description.split(\"\\n\")\n",
    "for bullet_point in bullet_points:\n",
    "    bullet_point = preprocess_description(bullet_point)\n",
    "\n",
    "    if bullet_point != \"\":\n",
    "        print(bullet_point)\n",
    "\n",
    "        results = token_classifier(bullet_point)\n",
    "        for res in results:\n",
    "            if res['word'].lower().strip() in ['durable', 'strong', 'heavy-duty', 'heavy duty', 'stability', 'versatile', 'comfortable']:\n",
    "                continue\n",
    "            group = res['entity_group']\n",
    "            if res['score'] >= 0.99:\n",
    "                high_score_ans[group].add(res['word'].lower().strip() + \" \" + str(res['score']))\n",
    "                \n",
    "new_high_score_ans = defaultdict(list)\n",
    "for key_dict in high_score_ans.keys():\n",
    "    new_high_score_ans[key_dict] = list(high_score_ans[key_dict])\n",
    "\n",
    "print(\"-\"*100)            \n",
    "print(json.dumps(new_high_score_ans, sort_keys=True, indent=4))                "
   ]
  },
  {
   "cell_type": "code",
   "execution_count": 32,
   "metadata": {
    "tags": []
   },
   "outputs": [
    {
     "name": "stdout",
     "output_type": "stream",
     "text": [
      "💪 PREMIUM QUALITY - The CAPHAUS Kettlebells are made with virgin iron ore , not scrap , and formed into a strong , balanced , single - piece casting with a flat wobble - free base . Made with a clean , consistent surface and durable powder - coat finish\n",
      "💪 PRECISION CASTING - The CAPHAUS Kettlebell is cast in one solid piece , this results in a stronger , more durable handle . Precision casting creates kettlebells with no seams , burrs , welded handles or rough spots\n",
      "💪 FLAT BASE - Kettlebells need to be created with a flat base for easy storage and use during floor workouts , kettlebells without flat bases will roll around which makes it hard to store and use during movements like pushups , rows and renegade rows\n",
      "💪 SMOOTH HANDLES - Easy to grip and hold onto but smooth so there is no discomfort in your hands during grueling workouts . Kettlebells with rough handles will chafe your hands and make it hard to complete a workout . \n",
      "💪 AVAILABLE IN – 9lb / 4kg ; 13lb / 6kg ; 18lb / 8kg ; 26lb / 12kg ; 35lb / 16kg ; 44lb / 20kg ; 53lb / 24kg ; 62lb / 28kg ; 70lb / 32kg ; 80lb / 36kg ; 88lb / 40kg . Marked in KGs and LBs\n",
      "----------------------------------------------------------------------------------------------------\n",
      "{\n",
      "    \"MAT\": [\n",
      "        \"powder\",\n",
      "        \"virgin iron ore\"\n",
      "    ],\n",
      "    \"PROPERTY\": [\n",
      "        \"flat base\",\n",
      "        \"rough handles\",\n",
      "        \"wobble - free base\",\n",
      "        \"flat bases\",\n",
      "        \"single - piece casting\",\n",
      "        \"coat\"\n",
      "    ],\n",
      "    \"WEIGHT\": [\n",
      "        \"44lb / 20kg\",\n",
      "        \"62lb / 28kg\",\n",
      "        \"70lb / 32kg\",\n",
      "        \"80lb / 36kg\",\n",
      "        \"35lb / 16kg\",\n",
      "        \"13lb / 6kg\",\n",
      "        \"9lb / 4kg\",\n",
      "        \"53lb / 24kg\",\n",
      "        \"88lb / 40kg\",\n",
      "        \"26lb / 12kg\",\n",
      "        \"18lb / 8kg\"\n",
      "    ]\n",
      "}\n"
     ]
    }
   ],
   "source": [
    "import json\n",
    "\n",
    "# Replace this description\n",
    "description = '''\n",
    "💪 PREMIUM QUALITY - The CAPHAUS Kettlebells are made with virgin iron ore, not scrap, and formed into a strong, balanced, single-piece casting with a flat wobble-free base. Made with a clean, consistent surface and durable powder-coat finish\n",
    "💪 PRECISION CASTING - The CAPHAUS Kettlebell is cast in one solid piece, this results in a stronger, more durable handle. Precision casting creates kettlebells with no seams, burrs, welded handles or rough spots\n",
    "💪 FLAT BASE - Kettlebells need to be created with a flat base for easy storage and use during floor workouts, kettlebells without flat bases will roll around which makes it hard to store and use during movements like pushups, rows and renegade rows\n",
    "💪 SMOOTH HANDLES - Easy to grip and hold onto but smooth so there is no discomfort in your hands during grueling workouts. Kettlebells with rough handles will chafe your hands and make it hard to complete a workout.\n",
    "💪 AVAILABLE IN – 9lb/4kg; 13lb/6kg; 18lb/8kg; 26lb/12kg; 35lb/16kg; 44lb/20kg; 53lb/24kg; 62lb/28kg; 70lb/32kg; 80lb/36kg; 88lb/40kg. Marked in KGs and LBs\n",
    "\n",
    "'''\n",
    "\n",
    "high_score_ans = defaultdict(set)\n",
    "bullet_points = description.split(\"\\n\")\n",
    "for bullet_point in bullet_points:\n",
    "    bullet_point = preprocess_description(bullet_point)\n",
    "\n",
    "    if bullet_point != \"\":\n",
    "        print(bullet_point)\n",
    "\n",
    "        results = token_classifier(bullet_point)\n",
    "        for res in results:\n",
    "            if res['word'].lower().strip() in ['durable', 'strong', 'heavy-duty', 'heavy duty', 'stability', 'versatile', 'comfortable']:\n",
    "                continue\n",
    "            group = res['entity_group']\n",
    "            if res['score'] >= 0.99:\n",
    "                # high_score_ans[group].add(res['word'].lower().strip() + \" \" + str(res['score']))\n",
    "                high_score_ans[group].add(res['word'].lower().strip())\n",
    "                \n",
    "new_high_score_ans = defaultdict(list)\n",
    "for key_dict in high_score_ans.keys():\n",
    "    new_high_score_ans[key_dict] = list(high_score_ans[key_dict])\n",
    "\n",
    "print(\"-\"*100)            \n",
    "print(json.dumps(new_high_score_ans, sort_keys=True, indent=4))                "
   ]
  },
  {
   "cell_type": "code",
   "execution_count": 33,
   "metadata": {
    "tags": []
   },
   "outputs": [
    {
     "data": {
      "text/html": [
       "<span class=\"tex2jax_ignore\"><div class=\"entities\" style=\"line-height: 2.5; direction: ltr\">💪 PREMIUM QUALITY - The CAPHAUS Kettlebells are made with \n",
       "<mark class=\"entity\" style=\"background: #EEE; padding: 0.45em 0.6em; margin: 0 0.25em; line-height: 1; border-radius: 0.35em;\">\n",
       "    virgin iron ore\n",
       "    <span style=\"font-size: 0.8em; font-weight: bold; line-height: 1; border-radius: 0.35em; vertical-align: middle; margin-left: 0.5rem\">MAT</span>\n",
       "</mark>\n",
       " , not scrap , and formed into a strong , balanced , \n",
       "<mark class=\"entity\" style=\"background: #FCF; padding: 0.45em 0.6em; margin: 0 0.25em; line-height: 1; border-radius: 0.35em;\">\n",
       "    single - piece casting\n",
       "    <span style=\"font-size: 0.8em; font-weight: bold; line-height: 1; border-radius: 0.35em; vertical-align: middle; margin-left: 0.5rem\">PROPERTY</span>\n",
       "</mark>\n",
       " with a flat \n",
       "<mark class=\"entity\" style=\"background: #FCF; padding: 0.45em 0.6em; margin: 0 0.25em; line-height: 1; border-radius: 0.35em;\">\n",
       "    wobble - free base\n",
       "    <span style=\"font-size: 0.8em; font-weight: bold; line-height: 1; border-radius: 0.35em; vertical-align: middle; margin-left: 0.5rem\">PROPERTY</span>\n",
       "</mark>\n",
       " . Made with a clean , consistent surface and durable \n",
       "<mark class=\"entity\" style=\"background: #EEE; padding: 0.45em 0.6em; margin: 0 0.25em; line-height: 1; border-radius: 0.35em;\">\n",
       "    powder\n",
       "    <span style=\"font-size: 0.8em; font-weight: bold; line-height: 1; border-radius: 0.35em; vertical-align: middle; margin-left: 0.5rem\">MAT</span>\n",
       "</mark>\n",
       " - \n",
       "<mark class=\"entity\" style=\"background: #FCF; padding: 0.45em 0.6em; margin: 0 0.25em; line-height: 1; border-radius: 0.35em;\">\n",
       "    coat\n",
       "    <span style=\"font-size: 0.8em; font-weight: bold; line-height: 1; border-radius: 0.35em; vertical-align: middle; margin-left: 0.5rem\">PROPERTY</span>\n",
       "</mark>\n",
       " finish</div></span>"
      ],
      "text/plain": [
       "<IPython.core.display.HTML object>"
      ]
     },
     "metadata": {},
     "output_type": "display_data"
    },
    {
     "data": {
      "text/html": [
       "<span class=\"tex2jax_ignore\"><div class=\"entities\" style=\"line-height: 2.5; direction: ltr\">💪 PRECISION CASTING - The CAPHAUS Kettlebell is cast in one solid piece , this results in a stronger , more durable handle . Precision casting creates kettlebells with no seams , burrs , welded handles or rough spots</div></span>"
      ],
      "text/plain": [
       "<IPython.core.display.HTML object>"
      ]
     },
     "metadata": {},
     "output_type": "display_data"
    },
    {
     "data": {
      "text/html": [
       "<span class=\"tex2jax_ignore\"><div class=\"entities\" style=\"line-height: 2.5; direction: ltr\">💪 \n",
       "<mark class=\"entity\" style=\"background: #FCF; padding: 0.45em 0.6em; margin: 0 0.25em; line-height: 1; border-radius: 0.35em;\">\n",
       "    FLAT BASE\n",
       "    <span style=\"font-size: 0.8em; font-weight: bold; line-height: 1; border-radius: 0.35em; vertical-align: middle; margin-left: 0.5rem\">PROPERTY</span>\n",
       "</mark>\n",
       " - Kettlebells need to be created with a \n",
       "<mark class=\"entity\" style=\"background: #FCF; padding: 0.45em 0.6em; margin: 0 0.25em; line-height: 1; border-radius: 0.35em;\">\n",
       "    flat base\n",
       "    <span style=\"font-size: 0.8em; font-weight: bold; line-height: 1; border-radius: 0.35em; vertical-align: middle; margin-left: 0.5rem\">PROPERTY</span>\n",
       "</mark>\n",
       " for easy storage and use during floor workouts , kettlebells without \n",
       "<mark class=\"entity\" style=\"background: #FCF; padding: 0.45em 0.6em; margin: 0 0.25em; line-height: 1; border-radius: 0.35em;\">\n",
       "    flat bases\n",
       "    <span style=\"font-size: 0.8em; font-weight: bold; line-height: 1; border-radius: 0.35em; vertical-align: middle; margin-left: 0.5rem\">PROPERTY</span>\n",
       "</mark>\n",
       " will roll around which makes it hard to store and use during movements like pushups , rows and renegade rows</div></span>"
      ],
      "text/plain": [
       "<IPython.core.display.HTML object>"
      ]
     },
     "metadata": {},
     "output_type": "display_data"
    },
    {
     "data": {
      "text/html": [
       "<span class=\"tex2jax_ignore\"><div class=\"entities\" style=\"line-height: 2.5; direction: ltr\">💪 SMOOTH HANDLES - Easy to grip and hold onto but smooth so there is no discomfort in your hands during grueling workouts . Kettlebells with \n",
       "<mark class=\"entity\" style=\"background: #FCF; padding: 0.45em 0.6em; margin: 0 0.25em; line-height: 1; border-radius: 0.35em;\">\n",
       "    rough handles\n",
       "    <span style=\"font-size: 0.8em; font-weight: bold; line-height: 1; border-radius: 0.35em; vertical-align: middle; margin-left: 0.5rem\">PROPERTY</span>\n",
       "</mark>\n",
       " will chafe your hands and make it hard to complete a workout . </div></span>"
      ],
      "text/plain": [
       "<IPython.core.display.HTML object>"
      ]
     },
     "metadata": {},
     "output_type": "display_data"
    },
    {
     "data": {
      "text/html": [
       "<span class=\"tex2jax_ignore\"><div class=\"entities\" style=\"line-height: 2.5; direction: ltr\">💪 AVAILABLE IN – \n",
       "<mark class=\"entity\" style=\"background: #173; padding: 0.45em 0.6em; margin: 0 0.25em; line-height: 1; border-radius: 0.35em;\">\n",
       "    9lb / 4kg\n",
       "    <span style=\"font-size: 0.8em; font-weight: bold; line-height: 1; border-radius: 0.35em; vertical-align: middle; margin-left: 0.5rem\">WEIGHT</span>\n",
       "</mark>\n",
       " ; \n",
       "<mark class=\"entity\" style=\"background: #173; padding: 0.45em 0.6em; margin: 0 0.25em; line-height: 1; border-radius: 0.35em;\">\n",
       "    13lb / 6kg\n",
       "    <span style=\"font-size: 0.8em; font-weight: bold; line-height: 1; border-radius: 0.35em; vertical-align: middle; margin-left: 0.5rem\">WEIGHT</span>\n",
       "</mark>\n",
       " ; \n",
       "<mark class=\"entity\" style=\"background: #173; padding: 0.45em 0.6em; margin: 0 0.25em; line-height: 1; border-radius: 0.35em;\">\n",
       "    18lb / 8kg\n",
       "    <span style=\"font-size: 0.8em; font-weight: bold; line-height: 1; border-radius: 0.35em; vertical-align: middle; margin-left: 0.5rem\">WEIGHT</span>\n",
       "</mark>\n",
       " ; \n",
       "<mark class=\"entity\" style=\"background: #173; padding: 0.45em 0.6em; margin: 0 0.25em; line-height: 1; border-radius: 0.35em;\">\n",
       "    26lb / 12kg\n",
       "    <span style=\"font-size: 0.8em; font-weight: bold; line-height: 1; border-radius: 0.35em; vertical-align: middle; margin-left: 0.5rem\">WEIGHT</span>\n",
       "</mark>\n",
       " ; \n",
       "<mark class=\"entity\" style=\"background: #173; padding: 0.45em 0.6em; margin: 0 0.25em; line-height: 1; border-radius: 0.35em;\">\n",
       "    35lb / 16kg\n",
       "    <span style=\"font-size: 0.8em; font-weight: bold; line-height: 1; border-radius: 0.35em; vertical-align: middle; margin-left: 0.5rem\">WEIGHT</span>\n",
       "</mark>\n",
       " ; \n",
       "<mark class=\"entity\" style=\"background: #173; padding: 0.45em 0.6em; margin: 0 0.25em; line-height: 1; border-radius: 0.35em;\">\n",
       "    44lb / 20kg\n",
       "    <span style=\"font-size: 0.8em; font-weight: bold; line-height: 1; border-radius: 0.35em; vertical-align: middle; margin-left: 0.5rem\">WEIGHT</span>\n",
       "</mark>\n",
       " ; \n",
       "<mark class=\"entity\" style=\"background: #173; padding: 0.45em 0.6em; margin: 0 0.25em; line-height: 1; border-radius: 0.35em;\">\n",
       "    53lb / 24kg\n",
       "    <span style=\"font-size: 0.8em; font-weight: bold; line-height: 1; border-radius: 0.35em; vertical-align: middle; margin-left: 0.5rem\">WEIGHT</span>\n",
       "</mark>\n",
       " ; \n",
       "<mark class=\"entity\" style=\"background: #173; padding: 0.45em 0.6em; margin: 0 0.25em; line-height: 1; border-radius: 0.35em;\">\n",
       "    62lb / 28kg\n",
       "    <span style=\"font-size: 0.8em; font-weight: bold; line-height: 1; border-radius: 0.35em; vertical-align: middle; margin-left: 0.5rem\">WEIGHT</span>\n",
       "</mark>\n",
       " ; \n",
       "<mark class=\"entity\" style=\"background: #173; padding: 0.45em 0.6em; margin: 0 0.25em; line-height: 1; border-radius: 0.35em;\">\n",
       "    70lb / 32kg\n",
       "    <span style=\"font-size: 0.8em; font-weight: bold; line-height: 1; border-radius: 0.35em; vertical-align: middle; margin-left: 0.5rem\">WEIGHT</span>\n",
       "</mark>\n",
       " ; \n",
       "<mark class=\"entity\" style=\"background: #173; padding: 0.45em 0.6em; margin: 0 0.25em; line-height: 1; border-radius: 0.35em;\">\n",
       "    80lb / 36kg\n",
       "    <span style=\"font-size: 0.8em; font-weight: bold; line-height: 1; border-radius: 0.35em; vertical-align: middle; margin-left: 0.5rem\">WEIGHT</span>\n",
       "</mark>\n",
       " ; \n",
       "<mark class=\"entity\" style=\"background: #173; padding: 0.45em 0.6em; margin: 0 0.25em; line-height: 1; border-radius: 0.35em;\">\n",
       "    88lb / 40kg\n",
       "    <span style=\"font-size: 0.8em; font-weight: bold; line-height: 1; border-radius: 0.35em; vertical-align: middle; margin-left: 0.5rem\">WEIGHT</span>\n",
       "</mark>\n",
       " . Marked in KGs and LBs</div></span>"
      ],
      "text/plain": [
       "<IPython.core.display.HTML object>"
      ]
     },
     "metadata": {},
     "output_type": "display_data"
    }
   ],
   "source": [
    "import json\n",
    "from spacy import displacy\n",
    "\n",
    "# Replace this description\n",
    "description = '''\n",
    "💪 PREMIUM QUALITY - The CAPHAUS Kettlebells are made with virgin iron ore, not scrap, and formed into a strong, balanced, single-piece casting with a flat wobble-free base. Made with a clean, consistent surface and durable powder-coat finish\n",
    "💪 PRECISION CASTING - The CAPHAUS Kettlebell is cast in one solid piece, this results in a stronger, more durable handle. Precision casting creates kettlebells with no seams, burrs, welded handles or rough spots\n",
    "💪 FLAT BASE - Kettlebells need to be created with a flat base for easy storage and use during floor workouts, kettlebells without flat bases will roll around which makes it hard to store and use during movements like pushups, rows and renegade rows\n",
    "💪 SMOOTH HANDLES - Easy to grip and hold onto but smooth so there is no discomfort in your hands during grueling workouts. Kettlebells with rough handles will chafe your hands and make it hard to complete a workout.\n",
    "💪 AVAILABLE IN – 9lb/4kg; 13lb/6kg; 18lb/8kg; 26lb/12kg; 35lb/16kg; 44lb/20kg; 53lb/24kg; 62lb/28kg; 70lb/32kg; 80lb/36kg; 88lb/40kg. Marked in KGs and LBs\n",
    "\n",
    "'''\n",
    "\n",
    "ner_tags = [\n",
    "\"MAT\",\n",
    "\"NMAT\",\n",
    "\"DIMENSION\",\n",
    "\"WEIGHT\",\n",
    "\"TARGET_USER\",\n",
    "\"PROPERTY\",\n",
    "\"COLOR\",\n",
    "\"SHAPE\",\n",
    "\"SIZE\",\n",
    "]\n",
    "\n",
    "colors = {\n",
    "    \"MAT\": \"#EEE\",\n",
    "    \"NMAT\": \"#FFD\",\n",
    "    \"DIMENSION\": \"#EFD\",\n",
    "    \"WEIGHT\": \"#173\",\n",
    "    \"TARGET_USER\": \"#379\",\n",
    "    \"PROPERTY\": \"#FCF\",\n",
    "    \"COLOR\": \"#FEF\",\n",
    "    \"SHAPE\": \"#C9C\",\n",
    "    \"SIZE\": \"#B8E\"\n",
    "         }\n",
    "options = {\"ents\": ner_tags, \"colors\": colors}\n",
    "\n",
    "high_score_ans = defaultdict(set)\n",
    "bullet_points = description.split(\"\\n\")\n",
    "for bullet_point in bullet_points:\n",
    "    bullet_point = preprocess_description(bullet_point)\n",
    "\n",
    "    if bullet_point != \"\":\n",
    "        results = token_classifier(bullet_point)\n",
    "        list_ents = []\n",
    "        for otp in results:\n",
    "            if otp['score'] < 0.99:\n",
    "                continue\n",
    "            list_ents.append({\n",
    "                'label': otp['entity_group'],\n",
    "                'start': otp['start'],\n",
    "                'end': otp['end'],\n",
    "            })\n",
    "        doc_manual = {\n",
    "            'text': bullet_point,\n",
    "            'ents': list_ents\n",
    "        }\n",
    "        displacy.render(\n",
    "            doc_manual,\n",
    "            style='ent',\n",
    "            manual=True,\n",
    "            options=options\n",
    "        )              "
   ]
  },
  {
   "cell_type": "code",
   "execution_count": 39,
   "metadata": {
    "tags": []
   },
   "outputs": [
    {
     "data": {
      "text/html": [
       "<span class=\"tex2jax_ignore\"><div class=\"entities\" style=\"line-height: 2.5; direction: ltr\">KETTLEBELL THAT IS FORGED TO LAST - This has a Sturdy , Reliable \n",
       "<mark class=\"entity\" style=\"background: #EEE; padding: 0.45em 0.6em; margin: 0 0.25em; line-height: 1; border-radius: 0.35em;\">\n",
       "    Cast Iron\n",
       "    <span style=\"font-size: 0.8em; font-weight: bold; line-height: 1; border-radius: 0.35em; vertical-align: middle; margin-left: 0.5rem\">MAT</span>\n",
       "</mark>\n",
       " design Built to Last Long</div></span>"
      ],
      "text/plain": [
       "<IPython.core.display.HTML object>"
      ]
     },
     "metadata": {},
     "output_type": "display_data"
    },
    {
     "data": {
      "text/html": [
       "<span class=\"tex2jax_ignore\"><div class=\"entities\" style=\"line-height: 2.5; direction: ltr\">WILL NOT RUST - \n",
       "<mark class=\"entity\" style=\"background: #EEE; padding: 0.45em 0.6em; margin: 0 0.25em; line-height: 1; border-radius: 0.35em;\">\n",
       "    Powder\n",
       "    <span style=\"font-size: 0.8em; font-weight: bold; line-height: 1; border-radius: 0.35em; vertical-align: middle; margin-left: 0.5rem\">MAT</span>\n",
       "</mark>\n",
       " - \n",
       "<mark class=\"entity\" style=\"background: #FCF; padding: 0.45em 0.6em; margin: 0 0.25em; line-height: 1; border-radius: 0.35em;\">\n",
       "    coat\n",
       "    <span style=\"font-size: 0.8em; font-weight: bold; line-height: 1; border-radius: 0.35em; vertical-align: middle; margin-left: 0.5rem\">PROPERTY</span>\n",
       "</mark>\n",
       " Finish for Corrosion Protection . Ensures NO RUST for Many Years to Come</div></span>"
      ],
      "text/plain": [
       "<IPython.core.display.HTML object>"
      ]
     },
     "metadata": {},
     "output_type": "display_data"
    },
    {
     "data": {
      "text/html": [
       "<span class=\"tex2jax_ignore\"><div class=\"entities\" style=\"line-height: 2.5; direction: ltr\">SINGLE PIECE CASTING - Cast in ONE Solid Piece so They Will Not Fall Apart During Intense Workouts</div></span>"
      ],
      "text/plain": [
       "<IPython.core.display.HTML object>"
      ]
     },
     "metadata": {},
     "output_type": "display_data"
    },
    {
     "data": {
      "text/html": [
       "<span class=\"tex2jax_ignore\"><div class=\"entities\" style=\"line-height: 2.5; direction: ltr\">ACCURATE WEIGHT OPTIONS - Choose the Perfect Weight for You . We Guarantee Weight Tolerance of 2 % </div></span>"
      ],
      "text/plain": [
       "<IPython.core.display.HTML object>"
      ]
     },
     "metadata": {},
     "output_type": "display_data"
    },
    {
     "data": {
      "text/html": [
       "<span class=\"tex2jax_ignore\"><div class=\"entities\" style=\"line-height: 2.5; direction: ltr\">\n",
       "<mark class=\"entity\" style=\"background: #FCF; padding: 0.45em 0.6em; margin: 0 0.25em; line-height: 1; border-radius: 0.35em;\">\n",
       "    COLOR - CODED\n",
       "    <span style=\"font-size: 0.8em; font-weight: bold; line-height: 1; border-radius: 0.35em; vertical-align: middle; margin-left: 0.5rem\">PROPERTY</span>\n",
       "</mark>\n",
       " BY WEIGHT - Our Kettlebells are \n",
       "<mark class=\"entity\" style=\"background: #FCF; padding: 0.45em 0.6em; margin: 0 0.25em; line-height: 1; border-radius: 0.35em;\">\n",
       "    Colored\n",
       "    <span style=\"font-size: 0.8em; font-weight: bold; line-height: 1; border-radius: 0.35em; vertical-align: middle; margin-left: 0.5rem\">PROPERTY</span>\n",
       "</mark>\n",
       " According to Weight for Easier Identification</div></span>"
      ],
      "text/plain": [
       "<IPython.core.display.HTML object>"
      ]
     },
     "metadata": {},
     "output_type": "display_data"
    }
   ],
   "source": [
    "import json\n",
    "from spacy import displacy\n",
    "\n",
    "# Replace this description\n",
    "description = '''\n",
    "KETTLEBELL THAT IS FORGED TO LAST - This has a Sturdy, Reliable Cast Iron design Built to Last Long\n",
    "WILL NOT RUST - Powder-coat Finish for Corrosion Protection. Ensures NO RUST for Many Years to Come\n",
    "SINGLE PIECE CASTING - Cast in ONE Solid Piece so They Will Not Fall Apart During Intense Workouts\n",
    "ACCURATE WEIGHT OPTIONS - Choose the Perfect Weight for You. We Guarantee Weight Tolerance of 2%\n",
    "COLOR-CODED BY WEIGHT - Our Kettlebells are Colored According to Weight for Easier Identification\n",
    "'''\n",
    "\n",
    "ner_tags = [\n",
    "\"MAT\",\n",
    "\"NMAT\",\n",
    "\"DIMENSION\",\n",
    "\"WEIGHT\",\n",
    "\"TARGET_USER\",\n",
    "\"PROPERTY\",\n",
    "\"COLOR\",\n",
    "\"SHAPE\",\n",
    "\"SIZE\",\n",
    "]\n",
    "\n",
    "colors = {\n",
    "    \"MAT\": \"#EEE\",\n",
    "    \"NMAT\": \"#FFD\",\n",
    "    \"DIMENSION\": \"#EFD\",\n",
    "    \"WEIGHT\": \"#173\",\n",
    "    \"TARGET_USER\": \"#379\",\n",
    "    \"PROPERTY\": \"#FCF\",\n",
    "    \"COLOR\": \"#FEF\",\n",
    "    \"SHAPE\": \"#C9C\",\n",
    "    \"SIZE\": \"#B8E\"\n",
    "         }\n",
    "options = {\"ents\": ner_tags, \"colors\": colors}\n",
    "\n",
    "high_score_ans = defaultdict(set)\n",
    "bullet_points = description.split(\"\\n\")\n",
    "for bullet_point in bullet_points:\n",
    "    bullet_point = preprocess_description(bullet_point)\n",
    "\n",
    "    if bullet_point != \"\":\n",
    "        results = token_classifier(bullet_point)\n",
    "        list_ents = []\n",
    "        for otp in results:\n",
    "            if otp['score'] < 0.6:\n",
    "                continue\n",
    "            list_ents.append({\n",
    "                'label': otp['entity_group'],\n",
    "                'start': otp['start'],\n",
    "                'end': otp['end'],\n",
    "            })\n",
    "        doc_manual = {\n",
    "            'text': bullet_point,\n",
    "            'ents': list_ents\n",
    "        }\n",
    "        displacy.render(\n",
    "            doc_manual,\n",
    "            style='ent',\n",
    "            manual=True,\n",
    "            options=options\n",
    "        )              "
   ]
  }
 ],
 "metadata": {
  "kernelspec": {
   "display_name": "Python 3 (ipykernel)",
   "language": "python",
   "name": "python3"
  },
  "language_info": {
   "codemirror_mode": {
    "name": "ipython",
    "version": 3
   },
   "file_extension": ".py",
   "mimetype": "text/x-python",
   "name": "python",
   "nbconvert_exporter": "python",
   "pygments_lexer": "ipython3",
   "version": "3.8.10"
  }
 },
 "nbformat": 4,
 "nbformat_minor": 4
}
