{
 "cells": [
  {
   "cell_type": "code",
   "execution_count": 1,
   "metadata": {},
   "outputs": [
    {
     "name": "stderr",
     "output_type": "stream",
     "text": [
      "2023-10-24 13:59:34.865104: I tensorflow/core/util/port.cc:110] oneDNN custom operations are on. You may see slightly different numerical results due to floating-point round-off errors from different computation orders. To turn them off, set the environment variable `TF_ENABLE_ONEDNN_OPTS=0`.\n",
      "2023-10-24 13:59:34.891097: I tensorflow/core/platform/cpu_feature_guard.cc:182] This TensorFlow binary is optimized to use available CPU instructions in performance-critical operations.\n",
      "To enable the following instructions: AVX2 AVX_VNNI FMA, in other operations, rebuild TensorFlow with the appropriate compiler flags.\n",
      "2023-10-24 13:59:35.323570: W tensorflow/compiler/tf2tensorrt/utils/py_utils.cc:38] TF-TRT Warning: Could not find TensorRT\n"
     ]
    }
   ],
   "source": [
    "from transformers import pipeline\n",
    "from collections import defaultdict\n",
    "\n",
    "# Replace this with your own checkpoint\n",
    "model_checkpoint = \"../models/epoch_30\"\n",
    "token_classifier = pipeline(\n",
    "    \"ner\", model=model_checkpoint, aggregation_strategy=\"simple\"\n",
    ")"
   ]
  },
  {
   "cell_type": "code",
   "execution_count": 2,
   "metadata": {},
   "outputs": [],
   "source": [
    "def preprocess_description(description):\n",
    "    single_description = description.strip()\n",
    "    new_description = []\n",
    "    last_special = -1\n",
    "    for idx, letter in enumerate(single_description):\n",
    "        if not (('a' <= letter and letter <= 'z') or ('A' <= letter and letter <= 'Z') or ('0' <= letter and letter <= '9') or letter == ' '):\n",
    "            pretext = single_description[last_special + 1:idx].strip()\n",
    "            if pretext != '' and pretext != ' ':\n",
    "                new_description.append(pretext)\n",
    "            new_description.append(letter.strip())\n",
    "            last_special = idx\n",
    "        if idx == len(single_description) - 1:\n",
    "            new_description.append(\n",
    "                single_description[last_special + 1:idx + 1].strip())\n",
    "    return \" \".join(new_description)"
   ]
  },
  {
   "cell_type": "code",
   "execution_count": 4,
   "metadata": {},
   "outputs": [
    {
     "name": "stdout",
     "output_type": "stream",
     "text": [
      "Includes ivory linen cushions and features a natural ash frame with natural - toned French cane sides and back\n",
      "----------------------------------------------------------------------------------------------------\n",
      "{\n",
      "    \"MAT\": [\n",
      "        \"natural ash\",\n",
      "        \"french cane\",\n",
      "        \"linen\",\n",
      "        \"ivory\"\n",
      "    ],\n",
      "    \"PROPERTY\": [\n",
      "        \"natural - toned\"\n",
      "    ]\n",
      "}\n"
     ]
    }
   ],
   "source": [
    "import json\n",
    "\n",
    "# Replace this description\n",
    "description = '''\n",
    "Includes ivory linen cushions and features a natural ash frame with natural-toned French cane sides and back\n",
    "'''\n",
    "\n",
    "high_score_ans = defaultdict(set)\n",
    "bullet_points = description.split(\"\\n\")\n",
    "for bullet_point in bullet_points:\n",
    "    bullet_point = preprocess_description(bullet_point)\n",
    "\n",
    "    if bullet_point != \"\":\n",
    "        print(bullet_point)\n",
    "\n",
    "        results = token_classifier(bullet_point)\n",
    "        for res in results:\n",
    "            if res['word'].lower().strip() in ['durable', 'strong', 'heavy-duty', 'heavy duty', 'stability', 'versatile']:\n",
    "                continue\n",
    "            group = res['entity_group']\n",
    "            if res['score'] >= 0.9:\n",
    "                high_score_ans[group].add(res['word'].lower().strip())\n",
    "                \n",
    "new_high_score_ans = defaultdict(list)\n",
    "for key_dict in high_score_ans.keys():\n",
    "    new_high_score_ans[key_dict] = list(high_score_ans[key_dict])\n",
    "\n",
    "print(\"-\"*100)            \n",
    "print(json.dumps(new_high_score_ans, sort_keys=True, indent=4))                "
   ]
  }
 ],
 "metadata": {
  "kernelspec": {
   "display_name": "one_for_all",
   "language": "python",
   "name": "python3"
  },
  "language_info": {
   "codemirror_mode": {
    "name": "ipython",
    "version": 3
   },
   "file_extension": ".py",
   "mimetype": "text/x-python",
   "name": "python",
   "nbconvert_exporter": "python",
   "pygments_lexer": "ipython3",
   "version": "3.8.10"
  }
 },
 "nbformat": 4,
 "nbformat_minor": 2
}
