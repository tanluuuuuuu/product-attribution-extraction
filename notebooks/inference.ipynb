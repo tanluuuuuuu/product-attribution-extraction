{
 "cells": [
  {
   "cell_type": "code",
   "execution_count": 9,
   "metadata": {},
   "outputs": [],
   "source": [
    "from transformers import pipeline\n",
    "from collections import defaultdict\n",
    "\n",
    "# Replace this with your own checkpoint\n",
    "model_checkpoint = \"../models/epoch_30\"\n",
    "token_classifier = pipeline(\n",
    "    \"ner\", model=model_checkpoint, aggregation_strategy=\"simple\"\n",
    ")"
   ]
  },
  {
   "cell_type": "code",
   "execution_count": null,
   "metadata": {},
   "outputs": [],
   "source": [
    "def preprocess_description(description):\n",
    "    single_description = description.strip()\n",
    "    new_description = []\n",
    "    last_special = -1\n",
    "    for idx, letter in enumerate(single_description):\n",
    "        if not (('a' <= letter and letter <= 'z') or ('A' <= letter and letter <= 'Z') or ('0' <= letter and letter <= '9') or letter == ' '):\n",
    "            pretext = single_description[last_special + 1:idx].strip()\n",
    "            if pretext != '' and pretext != ' ':\n",
    "                new_description.append(pretext)\n",
    "            new_description.append(letter.strip())\n",
    "            last_special = idx\n",
    "        if idx == len(single_description) - 1:\n",
    "            new_description.append(\n",
    "                single_description[last_special + 1:idx + 1].strip())\n",
    "    return \" \".join(new_description)"
   ]
  },
  {
   "cell_type": "code",
   "execution_count": null,
   "metadata": {},
   "outputs": [],
   "source": [
    "# Replace this description\n",
    "description = '''\n",
    "MASSAGE ROLLER STICK: Hand massage roller with ergonomic handle design helps to ease, condition muscle soreness, reduce stiffness and sore muscles before, after workouts; training and improve blood circulation, allow your muscles to recover more quickly\n",
    "ADVANCED WITH 4 WHEELS FOR MUSCLE DEEP TISSUE MASSAGE: 2 narrow/wider wheels releasing trigger points at calves, forearms, triceps, and biceps; increase blood flow and quick recovery on large muscle groups such as shins, spine, neck, hamstrings, and back\n",
    "HIGH QUALITY, HIGH DURABILITY: Yes4All Muscle Roller Massage Stick is made of strong stainless steel; recycled material, highly elastic TPE, which avoids the risks of breaking or losing shape over time, help stress-crack resistant, waterproof, sweat proof\n",
    "EXTRA FIRM, HIGH QUALITY: Features high density expanded polypropylene (EPP) material that is designed for deeper massage than the standard foam roller while being extremely durable, helping to boost your fitness progress for a long period of time\n",
    "HIGH WEIGHT CAPACITY: EPP Foam Rollers are capable of supporting up to an amazing 300lbs of weight, enabling you to use them for a wide variety of exercises without worrying about compatibility, great for fitness enthusiasts of all levels\n",
    "24-INCH LENGTH x 6-INCH ROUND: Measuring at 6”x24”, EPP Foam Rollers are very lightweight and have the perfect compactness for you to easily carry around anywhere you want and clock in solid workout sessions\n",
    "'''\n",
    "\n",
    "high_score_ans = defaultdict(set)\n",
    "bullet_points = description.split(\"\\n\")\n",
    "for bullet_point in bullet_points:\n",
    "    bullet_point = preprocess_description(bullet_point)\n",
    "\n",
    "    if bullet_point != \"\":\n",
    "        print(bullet_point)\n",
    "\n",
    "        results = token_classifier(bullet_point)\n",
    "        for res in results:\n",
    "            if res['word'].lower().strip() in ['durable', 'strong', 'heavy-duty', 'heavy duty', 'stability', 'versatile']:\n",
    "                continue\n",
    "            group = res['entity_group']\n",
    "            if res['score'] >= 0.9:\n",
    "                high_score_ans[group].add(res['word'].lower().strip())\n",
    "print(\"-\"*100)            \n",
    "for key in high_score_ans.keys():\n",
    "    line = f\"{key}: {high_score_ans[key]}\"\n",
    "    display(line)"
   ]
  }
 ],
 "metadata": {
  "kernelspec": {
   "display_name": "one_for_all",
   "language": "python",
   "name": "python3"
  },
  "language_info": {
   "codemirror_mode": {
    "name": "ipython",
    "version": 3
   },
   "file_extension": ".py",
   "mimetype": "text/x-python",
   "name": "python",
   "nbconvert_exporter": "python",
   "pygments_lexer": "ipython3",
   "version": "3.8.10"
  }
 },
 "nbformat": 4,
 "nbformat_minor": 2
}
