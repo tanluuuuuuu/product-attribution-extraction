{
 "cells": [
  {
   "cell_type": "code",
   "execution_count": 1,
   "metadata": {
    "tags": []
   },
   "outputs": [
    {
     "name": "stderr",
     "output_type": "stream",
     "text": [
      "2023-11-30 10:13:26.017608: I tensorflow/core/util/port.cc:110] oneDNN custom operations are on. You may see slightly different numerical results due to floating-point round-off errors from different computation orders. To turn them off, set the environment variable `TF_ENABLE_ONEDNN_OPTS=0`.\n",
      "2023-11-30 10:13:26.043832: I tensorflow/core/platform/cpu_feature_guard.cc:182] This TensorFlow binary is optimized to use available CPU instructions in performance-critical operations.\n",
      "To enable the following instructions: AVX2 AVX_VNNI FMA, in other operations, rebuild TensorFlow with the appropriate compiler flags.\n",
      "2023-11-30 10:13:26.445033: W tensorflow/compiler/tf2tensorrt/utils/py_utils.cc:38] TF-TRT Warning: Could not find TensorRT\n"
     ]
    }
   ],
   "source": [
    "from transformers import pipeline\n",
    "from collections import defaultdict\n",
    "\n",
    "# Replace this with your own checkpoint\n",
    "# model_checkpoint = \"/home/tanluuuuuuu/Desktop/luunvt/direct_indirect/models/model_from_2023-11-09/roberta-base_20:53:28/best_f1\"\n",
    "model_checkpoint = \"/home/tanluuuuuuu/Desktop/luunvt/direct_indirect/models/model_from_2023-11-24/roberta-base_11:29:56/best_f1\"\n",
    "token_classifier = pipeline(\n",
    "    \"ner\", model=model_checkpoint, aggregation_strategy=\"simple\", device=0\n",
    ")"
   ]
  },
  {
   "cell_type": "code",
   "execution_count": 2,
   "metadata": {
    "tags": []
   },
   "outputs": [],
   "source": [
    "def preprocess_description(description, words_need_removed = []):\n",
    "    # add space to string\n",
    "    single_description = description.strip()\n",
    "    new_description = []\n",
    "    last_special = -1\n",
    "    for idx, letter in enumerate(single_description):\n",
    "        if not (('a' <= letter and letter <= 'z') or ('A' <= letter and letter <= 'Z') or ('0' <= letter and letter <= '9') or letter == ' '):\n",
    "            pretext = single_description[last_special + 1:idx].strip()\n",
    "            if pretext != '' and pretext != ' ':\n",
    "                new_description.append(pretext)\n",
    "            new_description.append(letter.strip())\n",
    "            last_special = idx\n",
    "        if idx == len(single_description) - 1:\n",
    "            new_description.append(\n",
    "                single_description[last_special + 1:idx + 1].strip())\n",
    "    new_description = \" \".join(new_description)\n",
    "    \n",
    "    # Remove words from string: brand name,...\n",
    "    querywords = new_description.split(\" \")\n",
    "    words_need_removed = [x.lower() for x in words_need_removed]\n",
    "    resultwords  = [word for word in querywords if word.lower() not in words_need_removed]\n",
    "    result = ' '.join(resultwords)\n",
    "    \n",
    "    return result"
   ]
  },
  {
   "cell_type": "code",
   "execution_count": 3,
   "metadata": {
    "tags": []
   },
   "outputs": [
    {
     "name": "stdout",
     "output_type": "stream",
     "text": [
      "Product 1 : Kettlebell supports a wide range of resistance - training exercises\n",
      "Product 1 : Made of solid high - quality cast iron for reliable built - to - last strength\n",
      "Product 1 : Painted surface for increased durability and corrosion protection\n",
      "Product 1 : Textured wide handle helps ensure a comfortable , secure grip ; hold with one hand or two\n",
      "Product 2 : Kettlebell supports a wide range of resistance - training exercises\n",
      "Product 2 : Made of solid high - quality cast iron for reliable built - to - last strength\n",
      "Product 2 : Painted surface for increased durability and corrosion protection\n",
      "Product 2 : Textured wide handle helps ensure a comfortable , secure grip ; hold with one hand or two\n",
      "----------------------------------------------------------------------------------------------------\n",
      "{\n",
      "    \"MAT\": [\n",
      "        \"cast iron 0.99997795\"\n",
      "    ]\n",
      "}\n"
     ]
    }
   ],
   "source": [
    "import json\n",
    "\n",
    "# Replace this description\n",
    "description = '''\n",
    "Product 1: Kettlebell supports a wide range of resistance-training exercises\n",
    "Product 1: Made of solid high-quality cast iron for reliable built-to-last strength\n",
    "Product 1: Painted surface for increased durability and corrosion protection\n",
    "Product 1: Textured wide handle helps ensure a comfortable, secure grip; hold with one hand or two\n",
    "Product 2: Kettlebell supports a wide range of resistance-training exercises\n",
    "Product 2: Made of solid high-quality cast iron for reliable built-to-last strength\n",
    "Product 2: Painted surface for increased durability and corrosion protection\n",
    "Product 2: Textured wide handle helps ensure a comfortable, secure grip; hold with one hand or two\n",
    "'''\n",
    "\n",
    "high_score_ans = defaultdict(set)\n",
    "bullet_points = description.split(\"\\n\")\n",
    "for bullet_point in bullet_points:\n",
    "    bullet_point = preprocess_description(bullet_point)\n",
    "\n",
    "    if bullet_point != \"\":\n",
    "        print(bullet_point)\n",
    "\n",
    "        results = token_classifier(bullet_point)\n",
    "        for res in results:\n",
    "            if res['word'].lower().strip() in ['durable', 'strong', 'heavy-duty', 'heavy duty', 'stability', 'versatile', 'comfortable']:\n",
    "                continue\n",
    "            group = res['entity_group']\n",
    "            if res['score'] >= 0.9:\n",
    "                high_score_ans[group].add(res['word'].lower().strip() + \" \" + str(res['score']))\n",
    "                \n",
    "new_high_score_ans = defaultdict(list)\n",
    "for key_dict in high_score_ans.keys():\n",
    "    new_high_score_ans[key_dict] = list(high_score_ans[key_dict])\n",
    "\n",
    "print(\"-\"*100)            \n",
    "print(json.dumps(new_high_score_ans, sort_keys=True, indent=4))                "
   ]
  },
  {
   "cell_type": "code",
   "execution_count": 40,
   "metadata": {
    "tags": []
   },
   "outputs": [
    {
     "name": "stdout",
     "output_type": "stream",
     "text": [
      "♥ ️ Rattan Material : PE\n",
      "----------------------------------------------------------------------------------------------------\n",
      "{\n",
      "    \"MAT\": [\n",
      "        \"rattan\",\n",
      "        \"pe\"\n",
      "    ]\n",
      "}\n"
     ]
    }
   ],
   "source": [
    "import json\n",
    "\n",
    "# Replace this description\n",
    "description = '''\n",
    "♥️ Rattan Material: PE\n",
    "'''\n",
    "\n",
    "high_score_ans = defaultdict(set)\n",
    "bullet_points = description.split(\"\\n\")\n",
    "for bullet_point in bullet_points:\n",
    "    bullet_point = preprocess_description(bullet_point)\n",
    "\n",
    "    if bullet_point != \"\":\n",
    "        print(bullet_point)\n",
    "\n",
    "        results = token_classifier(bullet_point)\n",
    "        for res in results:\n",
    "            if res['word'].lower().strip() in ['durable', 'strong', 'heavy-duty', 'heavy duty', 'stability', 'versatile', 'comfortable']:\n",
    "                continue\n",
    "            group = res['entity_group']\n",
    "            if res['score'] >= 0.99:\n",
    "                # high_score_ans[group].add(res['word'].lower().strip() + \" \" + str(res['score']))\n",
    "                high_score_ans[group].add(res['word'].lower().strip())\n",
    "                \n",
    "new_high_score_ans = defaultdict(list)\n",
    "for key_dict in high_score_ans.keys():\n",
    "    new_high_score_ans[key_dict] = list(high_score_ans[key_dict])\n",
    "\n",
    "print(\"-\"*100)            \n",
    "print(json.dumps(new_high_score_ans, sort_keys=True, indent=4))                "
   ]
  },
  {
   "cell_type": "code",
   "execution_count": 31,
   "metadata": {
    "tags": []
   },
   "outputs": [
    {
     "data": {
      "text/html": [
       "<span class=\"tex2jax_ignore\"><div class=\"entities\" style=\"line-height: 2.5; direction: ltr\">Product 1 : MIDNIGHT - BL\n",
       "<mark class=\"entity\" style=\"background: #FEF; padding: 0.45em 0.6em; margin: 0 0.25em; line-height: 1; border-radius: 0.35em;\">\n",
       "    UE\n",
       "    <span style=\"font-size: 0.8em; font-weight: bold; line-height: 1; border-radius: 0.35em; vertical-align: middle; margin-left: 0.5rem\">COLOR</span>\n",
       "</mark>\n",
       " DRESSER FOR BEDROOM : This chest of bedroom drawers measures 17 . 52 &quot; L x 35 . 24 &quot; W x 30 . 82 &quot; H and weighs 65 . 56 lbs . The compact size of the handy drawer dresser helps you maximize your space while creating a place for clothes , books , games , or trinkets needing a home .</div></span>"
      ],
      "text/plain": [
       "<IPython.core.display.HTML object>"
      ]
     },
     "metadata": {},
     "output_type": "display_data"
    }
   ],
   "source": [
    "import json\n",
    "from spacy import displacy\n",
    "\n",
    "# Replace this description\n",
    "description = '''\n",
    "Product 1 : MIDNIGHT - BLUE DRESSER FOR BEDROOM : This chest of bedroom drawers measures 17 . 52 \" L x 35 . 24 \" W x 30 . 82 \" H and weighs 65 . 56 lbs . The compact size of the handy drawer dresser helps you maximize your space while creating a place for clothes , books , games , or trinkets needing a home .\n",
    "'''\n",
    "\n",
    "ner_tags = [\n",
    "\"MAT\",\n",
    "\"NMAT\",\n",
    "\"DIMENSION\",\n",
    "\"WEIGHT\",\n",
    "\"TARGET_USER\",\n",
    "\"PROPERTY\",\n",
    "\"COLOR\",\n",
    "\"SHAPE\",\n",
    "\"SIZE\",\n",
    "]\n",
    "\n",
    "colors = {\n",
    "    \"MAT\": \"#EEE\",\n",
    "    \"NMAT\": \"#FFD\",\n",
    "    \"DIMENSION\": \"#EFD\",\n",
    "    \"WEIGHT\": \"#173\",\n",
    "    \"TARGET_USER\": \"#379\",\n",
    "    \"PROPERTY\": \"#FCF\",\n",
    "    \"COLOR\": \"#FEF\",\n",
    "    \"SHAPE\": \"#C9C\",\n",
    "    \"SIZE\": \"#B8E\"\n",
    "         }\n",
    "options = {\"ents\": ner_tags, \"colors\": colors}\n",
    "\n",
    "high_score_ans = defaultdict(set)\n",
    "bullet_points = description.split(\"\\n\")\n",
    "for bullet_point in bullet_points:\n",
    "    # bullet_point = preprocess_description(bullet_point)\n",
    "\n",
    "    if bullet_point != \"\":\n",
    "        results = token_classifier(bullet_point)\n",
    "        list_ents = []\n",
    "        for otp in results:\n",
    "            if otp['score'] < 0.9:\n",
    "                continue\n",
    "            list_ents.append({\n",
    "                'label': otp['entity_group'],\n",
    "                'start': otp['start'],\n",
    "                'end': otp['end'],\n",
    "            })\n",
    "        doc_manual = {\n",
    "            'text': bullet_point,\n",
    "            'ents': list_ents\n",
    "        }\n",
    "        displacy.render(\n",
    "            doc_manual,\n",
    "            style='ent',\n",
    "            manual=True,\n",
    "            options=options\n",
    "        )              "
   ]
  },
  {
   "cell_type": "code",
   "execution_count": 7,
   "metadata": {
    "tags": []
   },
   "outputs": [
    {
     "data": {
      "text/plain": [
       "[]"
      ]
     },
     "metadata": {},
     "output_type": "display_data"
    },
    {
     "data": {
      "text/html": [
       "<span class=\"tex2jax_ignore\"><div class=\"entities\" style=\"line-height: 2.5; direction: ltr\">🐶 【 Ultra - Soft Dog beds for Large Dogs 】 The soft dog bed for crate is made of fluffy fluff with a swirl design , which can provide good support while relieving dog joint and muscle pain . The large dog bed has a full padding and the fluffy dog crate pad crate bed is very cozy and warm to create a healthy sleeping environment for pet dogs / cats to curl up and help them calm down .</div></span>"
      ],
      "text/plain": [
       "<IPython.core.display.HTML object>"
      ]
     },
     "metadata": {},
     "output_type": "display_data"
    },
    {
     "name": "stdout",
     "output_type": "stream",
     "text": [
      "\n"
     ]
    }
   ],
   "source": [
    "import json\n",
    "from spacy import displacy\n",
    "\n",
    "# Replace this description\n",
    "description = '''\n",
    "🐶 【 Ultra - Soft Dog beds for Large Dogs 】 The soft dog bed for crate is made of fluffy fluff with a swirl design , which can provide good support while relieving dog joint and muscle pain . The large dog bed has a full padding and the fluffy dog crate pad crate bed is very cozy and warm to create a healthy sleeping environment for pet dogs / cats to curl up and help them calm down .\n",
    "'''\n",
    "\n",
    "ner_tags = [\n",
    "\"MAT\",\n",
    "\"NMAT\",\n",
    "\"DIMENSION\",\n",
    "\"WEIGHT\",\n",
    "\"TARGET_USER\",\n",
    "\"PROPERTY\",\n",
    "\"COLOR\",\n",
    "\"SHAPE\",\n",
    "\"SIZE\",\n",
    "]\n",
    "\n",
    "colors = {\n",
    "    \"MAT\": \"#EEE\",\n",
    "    \"NMAT\": \"#FFD\",\n",
    "    \"DIMENSION\": \"#EFD\",\n",
    "    \"WEIGHT\": \"#173\",\n",
    "    \"TARGET_USER\": \"#379\",\n",
    "    \"PROPERTY\": \"#FCF\",\n",
    "    \"COLOR\": \"#FEF\",\n",
    "    \"SHAPE\": \"#C9C\",\n",
    "    \"SIZE\": \"#B8E\"\n",
    "         }\n",
    "options = {\"ents\": ner_tags, \"colors\": colors}\n",
    "\n",
    "high_score_ans = defaultdict(set)\n",
    "bullet_points = description.split(\"\\n\")\n",
    "for bullet_point in bullet_points:\n",
    "    # bullet_point = preprocess_description(bullet_point)\n",
    "\n",
    "    if bullet_point != \"\":\n",
    "        results = token_classifier(bullet_point)\n",
    "        display(results)\n",
    "        list_ents = []\n",
    "        for otp in results:\n",
    "            if otp['score'] < 0.9:\n",
    "                continue\n",
    "            list_ents.append({\n",
    "                'label': otp['entity_group'],\n",
    "                'start': otp['start'],\n",
    "                'end': otp['end'],\n",
    "            })\n",
    "        doc_manual = {\n",
    "            'text': bullet_point,\n",
    "            'ents': list_ents\n",
    "        }\n",
    "        displacy.render(\n",
    "            doc_manual,\n",
    "            style='ent',\n",
    "            manual=True,\n",
    "            options=options\n",
    "        )\n",
    "        print()"
   ]
  },
  {
   "cell_type": "code",
   "execution_count": null,
   "metadata": {},
   "outputs": [],
   "source": []
  }
 ],
 "metadata": {
  "kernelspec": {
   "display_name": "one_for_all",
   "language": "python",
   "name": "one_for_all"
  },
  "language_info": {
   "codemirror_mode": {
    "name": "ipython",
    "version": 3
   },
   "file_extension": ".py",
   "mimetype": "text/x-python",
   "name": "python",
   "nbconvert_exporter": "python",
   "pygments_lexer": "ipython3",
   "version": "3.8.10"
  }
 },
 "nbformat": 4,
 "nbformat_minor": 4
}
