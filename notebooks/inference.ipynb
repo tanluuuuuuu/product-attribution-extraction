{
 "cells": [
  {
   "cell_type": "code",
   "execution_count": 66,
   "metadata": {
    "tags": []
   },
   "outputs": [],
   "source": [
    "from transformers import pipeline\n",
    "from collections import defaultdict\n",
    "\n",
    "# Replace this with your own checkpoint\n",
    "# model_checkpoint = \"/home/tanluuuuuuu/Desktop/luunvt/direct_indirect/models/model_from_2023-11-09/roberta-base_20:53:28/best_f1\"\n",
    "model_checkpoint = \"/home/tanluuuuuuu/Downloads/roberta-base-v4-20231108T033610Z-001/roberta-base-v4/best_f1\"\n",
    "token_classifier = pipeline(\n",
    "    \"ner\", model=model_checkpoint, aggregation_strategy=\"simple\", device=0\n",
    ")"
   ]
  },
  {
   "cell_type": "code",
   "execution_count": 2,
   "metadata": {
    "tags": []
   },
   "outputs": [],
   "source": [
    "def preprocess_description(description, words_need_removed = []):\n",
    "    # add space to string\n",
    "    single_description = description.strip()\n",
    "    new_description = []\n",
    "    last_special = -1\n",
    "    for idx, letter in enumerate(single_description):\n",
    "        if not (('a' <= letter and letter <= 'z') or ('A' <= letter and letter <= 'Z') or ('0' <= letter and letter <= '9') or letter == ' '):\n",
    "            pretext = single_description[last_special + 1:idx].strip()\n",
    "            if pretext != '' and pretext != ' ':\n",
    "                new_description.append(pretext)\n",
    "            new_description.append(letter.strip())\n",
    "            last_special = idx\n",
    "        if idx == len(single_description) - 1:\n",
    "            new_description.append(\n",
    "                single_description[last_special + 1:idx + 1].strip())\n",
    "    new_description = \" \".join(new_description)\n",
    "    \n",
    "    # Remove words from string: brand name,...\n",
    "    querywords = new_description.split(\" \")\n",
    "    words_need_removed = [x.lower() for x in words_need_removed]\n",
    "    resultwords  = [word for word in querywords if word.lower() not in words_need_removed]\n",
    "    result = ' '.join(resultwords)\n",
    "    \n",
    "    return result"
   ]
  },
  {
   "cell_type": "code",
   "execution_count": 39,
   "metadata": {
    "tags": []
   },
   "outputs": [
    {
     "name": "stdout",
     "output_type": "stream",
     "text": [
      "No More Sweats - Unlike your memory foam cushion . Our advanced honeycomb grid design cooling gel coccyx seat cushion provides coolness while you are sitting , and it has a breathable cover , so you sit comfortable and cool\n",
      "----------------------------------------------------------------------------------------------------\n",
      "{\n",
      "    \"MAT\": [\n",
      "        \"coccyx 0.9999512\"\n",
      "    ],\n",
      "    \"NMAT\": [\n",
      "        \"memory foam 0.9999725\"\n",
      "    ],\n",
      "    \"PROPERTY\": [\n",
      "        \"honeycomb grid design 0.9998339\",\n",
      "        \"breathable cover 0.99994206\"\n",
      "    ]\n",
      "}\n"
     ]
    }
   ],
   "source": [
    "import json\n",
    "\n",
    "# Replace this description\n",
    "description = '''\n",
    "No More Sweats - Unlike your memory foam cushion. Our advanced honeycomb grid design cooling gel coccyx seat cushion provides coolness while you are sitting, and it has a breathable cover, so you sit comfortable and cool\n",
    "'''\n",
    "\n",
    "high_score_ans = defaultdict(set)\n",
    "bullet_points = description.split(\"\\n\")\n",
    "for bullet_point in bullet_points:\n",
    "    bullet_point = preprocess_description(bullet_point)\n",
    "\n",
    "    if bullet_point != \"\":\n",
    "        print(bullet_point)\n",
    "\n",
    "        results = token_classifier(bullet_point)\n",
    "        for res in results:\n",
    "            if res['word'].lower().strip() in ['durable', 'strong', 'heavy-duty', 'heavy duty', 'stability', 'versatile', 'comfortable']:\n",
    "                continue\n",
    "            group = res['entity_group']\n",
    "            if res['score'] >= 0.99:\n",
    "                high_score_ans[group].add(res['word'].lower().strip() + \" \" + str(res['score']))\n",
    "                \n",
    "new_high_score_ans = defaultdict(list)\n",
    "for key_dict in high_score_ans.keys():\n",
    "    new_high_score_ans[key_dict] = list(high_score_ans[key_dict])\n",
    "\n",
    "print(\"-\"*100)            \n",
    "print(json.dumps(new_high_score_ans, sort_keys=True, indent=4))                "
   ]
  },
  {
   "cell_type": "code",
   "execution_count": 40,
   "metadata": {
    "tags": []
   },
   "outputs": [
    {
     "name": "stdout",
     "output_type": "stream",
     "text": [
      "♥ ️ Rattan Material : PE\n",
      "----------------------------------------------------------------------------------------------------\n",
      "{\n",
      "    \"MAT\": [\n",
      "        \"rattan\",\n",
      "        \"pe\"\n",
      "    ]\n",
      "}\n"
     ]
    }
   ],
   "source": [
    "import json\n",
    "\n",
    "# Replace this description\n",
    "description = '''\n",
    "♥️ Rattan Material: PE\n",
    "'''\n",
    "\n",
    "high_score_ans = defaultdict(set)\n",
    "bullet_points = description.split(\"\\n\")\n",
    "for bullet_point in bullet_points:\n",
    "    bullet_point = preprocess_description(bullet_point)\n",
    "\n",
    "    if bullet_point != \"\":\n",
    "        print(bullet_point)\n",
    "\n",
    "        results = token_classifier(bullet_point)\n",
    "        for res in results:\n",
    "            if res['word'].lower().strip() in ['durable', 'strong', 'heavy-duty', 'heavy duty', 'stability', 'versatile', 'comfortable']:\n",
    "                continue\n",
    "            group = res['entity_group']\n",
    "            if res['score'] >= 0.99:\n",
    "                # high_score_ans[group].add(res['word'].lower().strip() + \" \" + str(res['score']))\n",
    "                high_score_ans[group].add(res['word'].lower().strip())\n",
    "                \n",
    "new_high_score_ans = defaultdict(list)\n",
    "for key_dict in high_score_ans.keys():\n",
    "    new_high_score_ans[key_dict] = list(high_score_ans[key_dict])\n",
    "\n",
    "print(\"-\"*100)            \n",
    "print(json.dumps(new_high_score_ans, sort_keys=True, indent=4))                "
   ]
  },
  {
   "cell_type": "code",
   "execution_count": 41,
   "metadata": {
    "tags": []
   },
   "outputs": [
    {
     "data": {
      "text/html": [
       "<span class=\"tex2jax_ignore\"><div class=\"entities\" style=\"line-height: 2.5; direction: ltr\">💪 PREMIUM QUALITY - The CAPHAUS Kettlebells are made with \n",
       "<mark class=\"entity\" style=\"background: #EEE; padding: 0.45em 0.6em; margin: 0 0.25em; line-height: 1; border-radius: 0.35em;\">\n",
       "    virgin iron ore\n",
       "    <span style=\"font-size: 0.8em; font-weight: bold; line-height: 1; border-radius: 0.35em; vertical-align: middle; margin-left: 0.5rem\">MAT</span>\n",
       "</mark>\n",
       " , not scrap , and formed into a strong , balanced , single - piece casting with a \n",
       "<mark class=\"entity\" style=\"background: #FCF; padding: 0.45em 0.6em; margin: 0 0.25em; line-height: 1; border-radius: 0.35em;\">\n",
       "    flat wobble - free base\n",
       "    <span style=\"font-size: 0.8em; font-weight: bold; line-height: 1; border-radius: 0.35em; vertical-align: middle; margin-left: 0.5rem\">PROPERTY</span>\n",
       "</mark>\n",
       " . Made with a clean , consistent surface and durable \n",
       "<mark class=\"entity\" style=\"background: #EEE; padding: 0.45em 0.6em; margin: 0 0.25em; line-height: 1; border-radius: 0.35em;\">\n",
       "    powder\n",
       "    <span style=\"font-size: 0.8em; font-weight: bold; line-height: 1; border-radius: 0.35em; vertical-align: middle; margin-left: 0.5rem\">MAT</span>\n",
       "</mark>\n",
       " - \n",
       "<mark class=\"entity\" style=\"background: #FCF; padding: 0.45em 0.6em; margin: 0 0.25em; line-height: 1; border-radius: 0.35em;\">\n",
       "    coat\n",
       "    <span style=\"font-size: 0.8em; font-weight: bold; line-height: 1; border-radius: 0.35em; vertical-align: middle; margin-left: 0.5rem\">PROPERTY</span>\n",
       "</mark>\n",
       " finish</div></span>"
      ],
      "text/plain": [
       "<IPython.core.display.HTML object>"
      ]
     },
     "metadata": {},
     "output_type": "display_data"
    },
    {
     "data": {
      "text/html": [
       "<span class=\"tex2jax_ignore\"><div class=\"entities\" style=\"line-height: 2.5; direction: ltr\">💪 PRECISION CASTING - The CAPHAUS Kettlebell is cast in one solid piece , this results in a stronger , more durable handle . Precision casting creates kettlebells with no seams , burrs , welded handles or rough spots</div></span>"
      ],
      "text/plain": [
       "<IPython.core.display.HTML object>"
      ]
     },
     "metadata": {},
     "output_type": "display_data"
    },
    {
     "data": {
      "text/html": [
       "<span class=\"tex2jax_ignore\"><div class=\"entities\" style=\"line-height: 2.5; direction: ltr\">💪 \n",
       "<mark class=\"entity\" style=\"background: #FCF; padding: 0.45em 0.6em; margin: 0 0.25em; line-height: 1; border-radius: 0.35em;\">\n",
       "    FLAT BASE\n",
       "    <span style=\"font-size: 0.8em; font-weight: bold; line-height: 1; border-radius: 0.35em; vertical-align: middle; margin-left: 0.5rem\">PROPERTY</span>\n",
       "</mark>\n",
       " - Kettlebells need to be created with a \n",
       "<mark class=\"entity\" style=\"background: #FCF; padding: 0.45em 0.6em; margin: 0 0.25em; line-height: 1; border-radius: 0.35em;\">\n",
       "    flat base\n",
       "    <span style=\"font-size: 0.8em; font-weight: bold; line-height: 1; border-radius: 0.35em; vertical-align: middle; margin-left: 0.5rem\">PROPERTY</span>\n",
       "</mark>\n",
       " for easy storage and use during floor workouts , kettlebells without \n",
       "<mark class=\"entity\" style=\"background: #FCF; padding: 0.45em 0.6em; margin: 0 0.25em; line-height: 1; border-radius: 0.35em;\">\n",
       "    flat bases\n",
       "    <span style=\"font-size: 0.8em; font-weight: bold; line-height: 1; border-radius: 0.35em; vertical-align: middle; margin-left: 0.5rem\">PROPERTY</span>\n",
       "</mark>\n",
       " will roll around which makes it hard to store and use during movements like pushups , rows and renegade rows</div></span>"
      ],
      "text/plain": [
       "<IPython.core.display.HTML object>"
      ]
     },
     "metadata": {},
     "output_type": "display_data"
    },
    {
     "data": {
      "text/html": [
       "<span class=\"tex2jax_ignore\"><div class=\"entities\" style=\"line-height: 2.5; direction: ltr\">💪 SMOOTH HANDLES - Easy to grip and hold onto but \n",
       "<mark class=\"entity\" style=\"background: #FCF; padding: 0.45em 0.6em; margin: 0 0.25em; line-height: 1; border-radius: 0.35em;\">\n",
       "    smooth\n",
       "    <span style=\"font-size: 0.8em; font-weight: bold; line-height: 1; border-radius: 0.35em; vertical-align: middle; margin-left: 0.5rem\">PROPERTY</span>\n",
       "</mark>\n",
       " so there is no discomfort in your hands during grueling workouts . Kettlebells with \n",
       "<mark class=\"entity\" style=\"background: #FCF; padding: 0.45em 0.6em; margin: 0 0.25em; line-height: 1; border-radius: 0.35em;\">\n",
       "    rough handles\n",
       "    <span style=\"font-size: 0.8em; font-weight: bold; line-height: 1; border-radius: 0.35em; vertical-align: middle; margin-left: 0.5rem\">PROPERTY</span>\n",
       "</mark>\n",
       " will chafe your hands and make it hard to complete a workout . </div></span>"
      ],
      "text/plain": [
       "<IPython.core.display.HTML object>"
      ]
     },
     "metadata": {},
     "output_type": "display_data"
    },
    {
     "data": {
      "text/html": [
       "<span class=\"tex2jax_ignore\"><div class=\"entities\" style=\"line-height: 2.5; direction: ltr\">💪 AVAILABLE IN – \n",
       "<mark class=\"entity\" style=\"background: #173; padding: 0.45em 0.6em; margin: 0 0.25em; line-height: 1; border-radius: 0.35em;\">\n",
       "    9lb / 4kg\n",
       "    <span style=\"font-size: 0.8em; font-weight: bold; line-height: 1; border-radius: 0.35em; vertical-align: middle; margin-left: 0.5rem\">WEIGHT</span>\n",
       "</mark>\n",
       " ; \n",
       "<mark class=\"entity\" style=\"background: #173; padding: 0.45em 0.6em; margin: 0 0.25em; line-height: 1; border-radius: 0.35em;\">\n",
       "    13lb / 6kg\n",
       "    <span style=\"font-size: 0.8em; font-weight: bold; line-height: 1; border-radius: 0.35em; vertical-align: middle; margin-left: 0.5rem\">WEIGHT</span>\n",
       "</mark>\n",
       " ; \n",
       "<mark class=\"entity\" style=\"background: #173; padding: 0.45em 0.6em; margin: 0 0.25em; line-height: 1; border-radius: 0.35em;\">\n",
       "    18lb / 8kg\n",
       "    <span style=\"font-size: 0.8em; font-weight: bold; line-height: 1; border-radius: 0.35em; vertical-align: middle; margin-left: 0.5rem\">WEIGHT</span>\n",
       "</mark>\n",
       " ; \n",
       "<mark class=\"entity\" style=\"background: #173; padding: 0.45em 0.6em; margin: 0 0.25em; line-height: 1; border-radius: 0.35em;\">\n",
       "    26lb / 12kg\n",
       "    <span style=\"font-size: 0.8em; font-weight: bold; line-height: 1; border-radius: 0.35em; vertical-align: middle; margin-left: 0.5rem\">WEIGHT</span>\n",
       "</mark>\n",
       " ; \n",
       "<mark class=\"entity\" style=\"background: #173; padding: 0.45em 0.6em; margin: 0 0.25em; line-height: 1; border-radius: 0.35em;\">\n",
       "    35lb / 16kg\n",
       "    <span style=\"font-size: 0.8em; font-weight: bold; line-height: 1; border-radius: 0.35em; vertical-align: middle; margin-left: 0.5rem\">WEIGHT</span>\n",
       "</mark>\n",
       " ; \n",
       "<mark class=\"entity\" style=\"background: #173; padding: 0.45em 0.6em; margin: 0 0.25em; line-height: 1; border-radius: 0.35em;\">\n",
       "    44lb / 20kg\n",
       "    <span style=\"font-size: 0.8em; font-weight: bold; line-height: 1; border-radius: 0.35em; vertical-align: middle; margin-left: 0.5rem\">WEIGHT</span>\n",
       "</mark>\n",
       " ; \n",
       "<mark class=\"entity\" style=\"background: #173; padding: 0.45em 0.6em; margin: 0 0.25em; line-height: 1; border-radius: 0.35em;\">\n",
       "    53lb / 24kg\n",
       "    <span style=\"font-size: 0.8em; font-weight: bold; line-height: 1; border-radius: 0.35em; vertical-align: middle; margin-left: 0.5rem\">WEIGHT</span>\n",
       "</mark>\n",
       " ; \n",
       "<mark class=\"entity\" style=\"background: #173; padding: 0.45em 0.6em; margin: 0 0.25em; line-height: 1; border-radius: 0.35em;\">\n",
       "    62lb / 28kg\n",
       "    <span style=\"font-size: 0.8em; font-weight: bold; line-height: 1; border-radius: 0.35em; vertical-align: middle; margin-left: 0.5rem\">WEIGHT</span>\n",
       "</mark>\n",
       " ; \n",
       "<mark class=\"entity\" style=\"background: #173; padding: 0.45em 0.6em; margin: 0 0.25em; line-height: 1; border-radius: 0.35em;\">\n",
       "    70lb / 32kg\n",
       "    <span style=\"font-size: 0.8em; font-weight: bold; line-height: 1; border-radius: 0.35em; vertical-align: middle; margin-left: 0.5rem\">WEIGHT</span>\n",
       "</mark>\n",
       " ; \n",
       "<mark class=\"entity\" style=\"background: #173; padding: 0.45em 0.6em; margin: 0 0.25em; line-height: 1; border-radius: 0.35em;\">\n",
       "    80lb / 36kg\n",
       "    <span style=\"font-size: 0.8em; font-weight: bold; line-height: 1; border-radius: 0.35em; vertical-align: middle; margin-left: 0.5rem\">WEIGHT</span>\n",
       "</mark>\n",
       " ; \n",
       "<mark class=\"entity\" style=\"background: #173; padding: 0.45em 0.6em; margin: 0 0.25em; line-height: 1; border-radius: 0.35em;\">\n",
       "    88lb / 40kg\n",
       "    <span style=\"font-size: 0.8em; font-weight: bold; line-height: 1; border-radius: 0.35em; vertical-align: middle; margin-left: 0.5rem\">WEIGHT</span>\n",
       "</mark>\n",
       " . Marked in KGs and LBs</div></span>"
      ],
      "text/plain": [
       "<IPython.core.display.HTML object>"
      ]
     },
     "metadata": {},
     "output_type": "display_data"
    }
   ],
   "source": [
    "import json\n",
    "from spacy import displacy\n",
    "\n",
    "# Replace this description\n",
    "description = '''\n",
    "💪 PREMIUM QUALITY - The CAPHAUS Kettlebells are made with virgin iron ore, not scrap, and formed into a strong, balanced, single-piece casting with a flat wobble-free base. Made with a clean, consistent surface and durable powder-coat finish\n",
    "💪 PRECISION CASTING - The CAPHAUS Kettlebell is cast in one solid piece, this results in a stronger, more durable handle. Precision casting creates kettlebells with no seams, burrs, welded handles or rough spots\n",
    "💪 FLAT BASE - Kettlebells need to be created with a flat base for easy storage and use during floor workouts, kettlebells without flat bases will roll around which makes it hard to store and use during movements like pushups, rows and renegade rows\n",
    "💪 SMOOTH HANDLES - Easy to grip and hold onto but smooth so there is no discomfort in your hands during grueling workouts. Kettlebells with rough handles will chafe your hands and make it hard to complete a workout.\n",
    "💪 AVAILABLE IN – 9lb/4kg; 13lb/6kg; 18lb/8kg; 26lb/12kg; 35lb/16kg; 44lb/20kg; 53lb/24kg; 62lb/28kg; 70lb/32kg; 80lb/36kg; 88lb/40kg. Marked in KGs and LBs\n",
    "\n",
    "'''\n",
    "\n",
    "ner_tags = [\n",
    "\"MAT\",\n",
    "\"NMAT\",\n",
    "\"DIMENSION\",\n",
    "\"WEIGHT\",\n",
    "\"TARGET_USER\",\n",
    "\"PROPERTY\",\n",
    "\"COLOR\",\n",
    "\"SHAPE\",\n",
    "\"SIZE\",\n",
    "]\n",
    "\n",
    "colors = {\n",
    "    \"MAT\": \"#EEE\",\n",
    "    \"NMAT\": \"#FFD\",\n",
    "    \"DIMENSION\": \"#EFD\",\n",
    "    \"WEIGHT\": \"#173\",\n",
    "    \"TARGET_USER\": \"#379\",\n",
    "    \"PROPERTY\": \"#FCF\",\n",
    "    \"COLOR\": \"#FEF\",\n",
    "    \"SHAPE\": \"#C9C\",\n",
    "    \"SIZE\": \"#B8E\"\n",
    "         }\n",
    "options = {\"ents\": ner_tags, \"colors\": colors}\n",
    "\n",
    "high_score_ans = defaultdict(set)\n",
    "bullet_points = description.split(\"\\n\")\n",
    "for bullet_point in bullet_points:\n",
    "    bullet_point = preprocess_description(bullet_point)\n",
    "\n",
    "    if bullet_point != \"\":\n",
    "        results = token_classifier(bullet_point)\n",
    "        list_ents = []\n",
    "        for otp in results:\n",
    "            if otp['score'] < 0.99:\n",
    "                continue\n",
    "            list_ents.append({\n",
    "                'label': otp['entity_group'],\n",
    "                'start': otp['start'],\n",
    "                'end': otp['end'],\n",
    "            })\n",
    "        doc_manual = {\n",
    "            'text': bullet_point,\n",
    "            'ents': list_ents\n",
    "        }\n",
    "        displacy.render(\n",
    "            doc_manual,\n",
    "            style='ent',\n",
    "            manual=True,\n",
    "            options=options\n",
    "        )              "
   ]
  },
  {
   "cell_type": "code",
   "execution_count": 72,
   "metadata": {
    "tags": []
   },
   "outputs": [
    {
     "data": {
      "text/plain": [
       "[{'entity_group': 'TARGET_USER',\n",
       "  'score': 0.9998142,\n",
       "  'word': ' pet',\n",
       "  'start': 25,\n",
       "  'end': 28},\n",
       " {'entity_group': 'MAT',\n",
       "  'score': 0.99997246,\n",
       "  'word': ' steel',\n",
       "  'start': 99,\n",
       "  'end': 104},\n",
       " {'entity_group': 'PROPERTY',\n",
       "  'score': 0.99990344,\n",
       "  'word': ' mesh',\n",
       "  'start': 105,\n",
       "  'end': 109},\n",
       " {'entity_group': 'MAT',\n",
       "  'score': 0.99996614,\n",
       "  'word': ' composite plastic',\n",
       "  'start': 161,\n",
       "  'end': 178}]"
      ]
     },
     "metadata": {},
     "output_type": "display_data"
    },
    {
     "data": {
      "text/html": [
       "<span class=\"tex2jax_ignore\"><div class=\"entities\" style=\"line-height: 2.5; direction: ltr\">STURDY AND DURABLE : Our \n",
       "<mark class=\"entity\" style=\"background: #379; padding: 0.45em 0.6em; margin: 0 0.25em; line-height: 1; border-radius: 0.35em;\">\n",
       "    pet\n",
       "    <span style=\"font-size: 0.8em; font-weight: bold; line-height: 1; border-radius: 0.35em; vertical-align: middle; margin-left: 0.5rem\">TARGET_USER</span>\n",
       "</mark>\n",
       " - friendly furniture constructed of durable , high - grade decorative \n",
       "<mark class=\"entity\" style=\"background: #EEE; padding: 0.45em 0.6em; margin: 0 0.25em; line-height: 1; border-radius: 0.35em;\">\n",
       "    steel\n",
       "    <span style=\"font-size: 0.8em; font-weight: bold; line-height: 1; border-radius: 0.35em; vertical-align: middle; margin-left: 0.5rem\">MAT</span>\n",
       "</mark>\n",
       " \n",
       "<mark class=\"entity\" style=\"background: #FCF; padding: 0.45em 0.6em; margin: 0 0.25em; line-height: 1; border-radius: 0.35em;\">\n",
       "    mesh\n",
       "    <span style=\"font-size: 0.8em; font-weight: bold; line-height: 1; border-radius: 0.35em; vertical-align: middle; margin-left: 0.5rem\">PROPERTY</span>\n",
       "</mark>\n",
       " ( that serve as ventilation holes ) and innovative \n",
       "<mark class=\"entity\" style=\"background: #EEE; padding: 0.45em 0.6em; margin: 0 0.25em; line-height: 1; border-radius: 0.35em;\">\n",
       "    composite plastic\n",
       "    <span style=\"font-size: 0.8em; font-weight: bold; line-height: 1; border-radius: 0.35em; vertical-align: middle; margin-left: 0.5rem\">MAT</span>\n",
       "</mark>\n",
       " - making this crate strong and stable</div></span>"
      ],
      "text/plain": [
       "<IPython.core.display.HTML object>"
      ]
     },
     "metadata": {},
     "output_type": "display_data"
    },
    {
     "name": "stdout",
     "output_type": "stream",
     "text": [
      "\n"
     ]
    }
   ],
   "source": [
    "import json\n",
    "from spacy import displacy\n",
    "\n",
    "# Replace this description\n",
    "description = '''\n",
    "STURDY AND DURABLE : Our pet - friendly furniture constructed of durable , high - grade decorative steel mesh ( that serve as ventilation holes ) and innovative composite plastic - making this crate strong and stable\n",
    "'''\n",
    "\n",
    "ner_tags = [\n",
    "\"MAT\",\n",
    "\"NMAT\",\n",
    "\"DIMENSION\",\n",
    "\"WEIGHT\",\n",
    "\"TARGET_USER\",\n",
    "\"PROPERTY\",\n",
    "\"COLOR\",\n",
    "\"SHAPE\",\n",
    "\"SIZE\",\n",
    "]\n",
    "\n",
    "colors = {\n",
    "    \"MAT\": \"#EEE\",\n",
    "    \"NMAT\": \"#FFD\",\n",
    "    \"DIMENSION\": \"#EFD\",\n",
    "    \"WEIGHT\": \"#173\",\n",
    "    \"TARGET_USER\": \"#379\",\n",
    "    \"PROPERTY\": \"#FCF\",\n",
    "    \"COLOR\": \"#FEF\",\n",
    "    \"SHAPE\": \"#C9C\",\n",
    "    \"SIZE\": \"#B8E\"\n",
    "         }\n",
    "options = {\"ents\": ner_tags, \"colors\": colors}\n",
    "\n",
    "high_score_ans = defaultdict(set)\n",
    "bullet_points = description.split(\"\\n\")\n",
    "for bullet_point in bullet_points:\n",
    "    # bullet_point = preprocess_description(bullet_point)\n",
    "\n",
    "    if bullet_point != \"\":\n",
    "        results = token_classifier(bullet_point)\n",
    "        display(results)\n",
    "        list_ents = []\n",
    "        for otp in results:\n",
    "            if otp['score'] < 0.9:\n",
    "                continue\n",
    "            list_ents.append({\n",
    "                'label': otp['entity_group'],\n",
    "                'start': otp['start'],\n",
    "                'end': otp['end'],\n",
    "            })\n",
    "        doc_manual = {\n",
    "            'text': bullet_point,\n",
    "            'ents': list_ents\n",
    "        }\n",
    "        displacy.render(\n",
    "            doc_manual,\n",
    "            style='ent',\n",
    "            manual=True,\n",
    "            options=options\n",
    "        )\n",
    "        print()"
   ]
  },
  {
   "cell_type": "code",
   "execution_count": null,
   "metadata": {},
   "outputs": [],
   "source": []
  }
 ],
 "metadata": {
  "kernelspec": {
   "display_name": "one_for_all",
   "language": "python",
   "name": "one_for_all"
  },
  "language_info": {
   "codemirror_mode": {
    "name": "ipython",
    "version": 3
   },
   "file_extension": ".py",
   "mimetype": "text/x-python",
   "name": "python",
   "nbconvert_exporter": "python",
   "pygments_lexer": "ipython3",
   "version": "3.8.10"
  }
 },
 "nbformat": 4,
 "nbformat_minor": 4
}
